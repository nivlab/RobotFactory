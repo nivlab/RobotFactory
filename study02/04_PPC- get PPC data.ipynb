{
 "cells": [
  {
   "cell_type": "code",
   "execution_count": 1,
   "id": "f082305d",
   "metadata": {},
   "outputs": [],
   "source": [
    "import os\n",
    "import numpy as np\n",
    "import scipy as sp\n",
    "import matplotlib.pyplot as plt\n",
    "import seaborn as sns\n",
    "from pandas import read_csv, concat\n",
    "sns.set_theme(context='notebook', style='white', font_scale=1.33)\n",
    "\n",
    "import numpy as np\n",
    "from os.path import dirname\n",
    "from pandas import read_csv\n",
    "import pandas as pd\n",
    "from numba import njit\n",
    "from tqdm import tqdm\n",
    "import json\n",
    "\n",
    "from stan_fit_scripts.fit_ppc import load_data, get_ppc"
   ]
  },
  {
   "cell_type": "markdown",
   "id": "a069efe8",
   "metadata": {},
   "source": [
    "## calc PPC and save"
   ]
  },
  {
   "cell_type": "code",
   "execution_count": 4,
   "id": "33c0b7a3",
   "metadata": {},
   "outputs": [
    {
     "name": "stderr",
     "output_type": "stream",
     "text": [
      "100%|███████████████████████████████████████████████████████████████| 12/12 [02:22<00:00, 11.89s/it]\n",
      "100%|███████████████████████████████████████████████████████████████| 12/12 [01:54<00:00,  9.52s/it]\n",
      "100%|███████████████████████████████████████████████████████████████| 12/12 [01:54<00:00,  9.58s/it]\n"
     ]
    }
   ],
   "source": [
    "ppc_models = ['6b']#[5,4,3,2,1]\n",
    "ppc_sessions = [1,2,3]\n",
    "\n",
    "for ppc_m in ppc_models:\n",
    "    for ppc_s in ppc_sessions:\n",
    "        # get PPC\n",
    "        data, params = load_data(ppc_m, ppc_s)\n",
    "        d_out = get_ppc(data, params)\n",
    "        \n",
    "        #Save ppc\n",
    "        \n",
    "        # Restrict DataFrame to columns of interest.\n",
    "\n",
    "        cols = ['subject','session','block','trial','exposure','valence','action','robot',\n",
    "                'correct','choice','rt','accuracy','sham','outcome','Y_hat','Y_pred','waic']\n",
    "        d_out = d_out[cols]\n",
    "        \n",
    "        # Save.\n",
    "        f = os.path.join('stan_results', 'ppc',f'm{ppc_m}_s{ppc_s}_ppc.tsv')\n",
    "        d_out.to_csv(f, sep='\\t', index=False)\n",
    "\n",
    "\n"
   ]
  },
  {
   "cell_type": "code",
   "execution_count": 6,
   "id": "ab6839b9",
   "metadata": {},
   "outputs": [
    {
     "data": {
      "text/plain": [
       "4"
      ]
     },
     "execution_count": 6,
     "metadata": {},
     "output_type": "execute_result"
    }
   ],
   "source": [
    "int(str(4)[-1])"
   ]
  },
  {
   "cell_type": "code",
   "execution_count": null,
   "id": "c5d07f7b",
   "metadata": {},
   "outputs": [],
   "source": []
  }
 ],
 "metadata": {
  "kernelspec": {
   "display_name": "Python 3",
   "language": "python",
   "name": "python3"
  },
  "language_info": {
   "codemirror_mode": {
    "name": "ipython",
    "version": 3
   },
   "file_extension": ".py",
   "mimetype": "text/x-python",
   "name": "python",
   "nbconvert_exporter": "python",
   "pygments_lexer": "ipython3",
   "version": "3.9.7"
  }
 },
 "nbformat": 4,
 "nbformat_minor": 5
}
