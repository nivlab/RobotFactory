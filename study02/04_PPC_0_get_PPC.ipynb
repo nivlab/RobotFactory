{
 "cells": [
  {
   "cell_type": "code",
   "execution_count": 2,
   "id": "f082305d",
   "metadata": {},
   "outputs": [],
   "source": [
    "import os\n",
    "import numpy as np\n",
    "import scipy as sp\n",
    "import matplotlib.pyplot as plt\n",
    "import seaborn as sns\n",
    "from pandas import read_csv, concat\n",
    "sns.set_theme(context='notebook', style='white', font_scale=1.33)\n",
    "\n",
    "import numpy as np\n",
    "from os.path import dirname\n",
    "from pandas import read_csv\n",
    "import pandas as pd\n",
    "from numba import njit\n",
    "from tqdm import tqdm\n",
    "import json\n",
    "\n",
    "from stan_fit_scripts.fit_ppc import load_data, get_ppc\n",
    "import glob"
   ]
  },
  {
   "cell_type": "code",
   "execution_count": 26,
   "id": "02942582",
   "metadata": {},
   "outputs": [
    {
     "data": {
      "text/plain": [
       "['stan_results/ppc/m4b_s1_ppc.tsv',\n",
       " 'stan_results/ppc/m2a_s3_ppc.tsv',\n",
       " 'stan_results/ppc/m5a_s1_ppc.tsv',\n",
       " 'stan_results/ppc/m6a_s1_ppc.tsv',\n",
       " 'stan_results/ppc/m1a_s3_ppc.tsv',\n",
       " 'stan_results/ppc/m1a_s1_ppc.tsv',\n",
       " 'stan_results/ppc/m4a_s3_ppc.tsv',\n",
       " 'stan_results/ppc/m4a_s2_ppc.tsv',\n",
       " 'stan_results/ppc/m6b_s2_ppc.tsv',\n",
       " 'stan_results/ppc/m3a_s3_ppc.tsv',\n",
       " 'stan_results/ppc/m2a_s2_ppc.tsv',\n",
       " 'stan_results/ppc/m5a_s3_ppc.tsv',\n",
       " 'stan_results/ppc/m6b_s1_ppc.tsv',\n",
       " 'stan_results/ppc/m4b_s2_ppc.tsv',\n",
       " 'stan_results/ppc/m6a_s3_ppc.tsv',\n",
       " 'stan_results/ppc/m1a_s2_ppc.tsv',\n",
       " 'stan_results/ppc/m4a_s1_ppc.tsv',\n",
       " 'stan_results/ppc/m3a_s1_ppc.tsv',\n",
       " 'stan_results/ppc/m5b_s1_ppc.tsv',\n",
       " 'stan_results/ppc/m6b_s3_ppc.tsv',\n",
       " 'stan_results/ppc/m4b_s3_ppc.tsv',\n",
       " 'stan_results/ppc/m5a_s2_ppc.tsv',\n",
       " 'stan_results/ppc/m6a_s2_ppc.tsv',\n",
       " 'stan_results/ppc/m3a_s2_ppc.tsv',\n",
       " 'stan_results/ppc/m2a_s1_ppc.tsv']"
      ]
     },
     "execution_count": 26,
     "metadata": {},
     "output_type": "execute_result"
    }
   ],
   "source": [
    "ppc_fils"
   ]
  },
  {
   "cell_type": "code",
   "execution_count": 31,
   "id": "26f9f237",
   "metadata": {},
   "outputs": [
    {
     "name": "stdout",
     "output_type": "stream",
     "text": [
      "missing results files:\n",
      "m4a_s2\n",
      "missing ppc files:\n"
     ]
    }
   ],
   "source": [
    "### which files i have\n",
    "\n",
    "results_files = glob.glob('stan_results/*.tsv.gz')\n",
    "ppc_fils = glob.glob('stan_results/ppc/*')\n",
    "\n",
    "print('missing results files:')\n",
    "for m in  [6,5,4,3,2,1]:\n",
    "    for v in ['a','b']:\n",
    "        for s in [1,2,3]:\n",
    "            results_file_name = 'm'+str(m)+str(v)+'_s'+str(s)\n",
    "            \n",
    "            if 'stan_results/'+results_file_name+'.tsv.gz' not in results_files:\n",
    "                if (m not in [1,2,3]) or (v!='b'):\n",
    "                    print(results_file_name)\n",
    "       \n",
    "print('missing ppc files:')\n",
    "for m in  [6,5,4,3,2,1]:\n",
    "    for v in ['a','b']:\n",
    "        for s in [1,2,3]:\n",
    "            results_file_name = 'm'+str(m)+str(v)+'_s'+str(s)\n",
    "            \n",
    "            if 'stan_results/ppc/'+results_file_name+'_ppc.tsv' not in ppc_fils:\n",
    "                if (m not in [1,2,3]) or (v!='b'):\n",
    "                    print(results_file_name)\n",
    "                    \n"
   ]
  },
  {
   "cell_type": "markdown",
   "id": "a069efe8",
   "metadata": {},
   "source": [
    "## calc PPC and save"
   ]
  },
  {
   "cell_type": "code",
   "execution_count": 30,
   "id": "33c0b7a3",
   "metadata": {},
   "outputs": [
    {
     "name": "stderr",
     "output_type": "stream",
     "text": [
      "100%|██████████████████████████████████████████████████████| 12/12 [01:52<00:00,  9.41s/it]\n",
      " 75%|█████████████████████████████████████████▎             | 9/12 [01:24<00:29,  9.86s/it]/mnt/cup/labs/niv/gili/RobotFactory/study02/stan_fit_scripts/fit_ppc.py:176: RuntimeWarning: divide by zero encountered in log\n",
      "  WAIC[:,e] = waic(np.where(Y[e], np.log(theta), np.log(1-theta)))*mask\n",
      "/jukebox/pkgs/ANACONDAPY/2021.11/lib/python3.9/site-packages/numpy/core/_methods.py:229: RuntimeWarning: invalid value encountered in subtract\n",
      "  x = asanyarray(arr - arrmean)\n",
      "100%|██████████████████████████████████████████████████████| 12/12 [01:54<00:00,  9.50s/it]\n"
     ]
    }
   ],
   "source": [
    "ppc_models = ['5b']#[5,4,3,2,1]\n",
    "ppc_sessions = [2,3]\n",
    "\n",
    "for ppc_m in ppc_models:\n",
    "    for ppc_s in ppc_sessions:\n",
    "        # get PPC\n",
    "        data, params = load_data(ppc_m, ppc_s)\n",
    "        d_out = get_ppc(data, params)\n",
    "        \n",
    "        #Save ppc\n",
    "        \n",
    "        # Restrict DataFrame to columns of interest.\n",
    "\n",
    "        cols = ['subject','session','block','trial','exposure','valence','action','robot',\n",
    "                'correct','choice','rt','accuracy','sham','outcome','Y_hat','Y_pred','waic']\n",
    "        d_out = d_out[cols]\n",
    "        \n",
    "        # Save.\n",
    "        f = os.path.join('stan_results', 'ppc',f'm{ppc_m}_s{ppc_s}_ppc.tsv')\n",
    "        d_out.to_csv(f, sep='\\t', index=False)\n",
    "\n",
    "\n"
   ]
  },
  {
   "cell_type": "code",
   "execution_count": null,
   "id": "90b52062",
   "metadata": {},
   "outputs": [],
   "source": []
  }
 ],
 "metadata": {
  "kernelspec": {
   "display_name": "Python 3",
   "language": "python",
   "name": "python3"
  },
  "language_info": {
   "codemirror_mode": {
    "name": "ipython",
    "version": 3
   },
   "file_extension": ".py",
   "mimetype": "text/x-python",
   "name": "python",
   "nbconvert_exporter": "python",
   "pygments_lexer": "ipython3",
   "version": "3.9.7"
  }
 },
 "nbformat": 4,
 "nbformat_minor": 5
}
