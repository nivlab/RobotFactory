{
 "cells": [
  {
   "cell_type": "code",
   "execution_count": 1,
   "id": "2b4c10cf",
   "metadata": {},
   "outputs": [],
   "source": [
    "import os\n",
    "import numpy as np\n",
    "import scipy as sp\n",
    "import matplotlib.pyplot as plt\n",
    "import seaborn as sns\n",
    "from pandas import read_csv, concat\n",
    "sns.set_theme(context='notebook', style='white', font_scale=1.33)\n",
    "\n",
    "import numpy as np\n",
    "from os.path import dirname\n",
    "from pandas import read_csv\n",
    "import pandas as pd\n",
    "from numba import njit\n",
    "from tqdm import tqdm\n",
    "import json\n",
    "\n",
    "from os.path import exists\n",
    "from stan_fit_scripts import fit_ppc\n"
   ]
  },
  {
   "cell_type": "markdown",
   "id": "d94263f7",
   "metadata": {},
   "source": [
    "## Analysis"
   ]
  },
  {
   "cell_type": "code",
   "execution_count": 2,
   "id": "277ea5dd",
   "metadata": {},
   "outputs": [],
   "source": [
    "#set models,session to analyse\n",
    "stan_models = ['m4a','m4b']\n",
    "sessions = [1, 2, 3]\n",
    "blocks = [1, 2, 3]\n",
    "\n"
   ]
  },
  {
   "cell_type": "code",
   "execution_count": 6,
   "id": "97e8c70f",
   "metadata": {},
   "outputs": [
    {
     "name": "stdout",
     "output_type": "stream",
     "text": [
      "stan_results/m4a_trt_2_3_summary.tsv\n",
      "stan_results/m4a_trt_1_3_summary.tsv\n",
      "stan_results/m4b_trt_1_2_summary.tsv\n",
      "stan_results/m4b_trt_2_3_summary.tsv\n",
      "stan_results/m4b_trt_1_3_summary.tsv\n"
     ]
    }
   ],
   "source": [
    "for stan_model in stan_models:\n",
    "    for i,j in [[1,2],[2,3],[1,3]]:\n",
    "        path_to_file_trt = os.path.join('stan_results',#'reliability_old',\n",
    "                        f'{stan_model}_trt_{i}_{j}_summary.tsv')\n",
    "        if exists(path_to_file_trt):\n",
    "            print(path_to_file_trt)\n",
    "            \n",
    "        path_to_file_ic = os.path.join('stan_results',\n",
    "                        f'{stan_model}_trt_{i}_{j}_summary.tsv')\n",
    "        if exists(path_to_file_ic):\n",
    "            print(path_to_file_ic)"
   ]
  },
  {
   "cell_type": "code",
   "execution_count": 11,
   "id": "d845b598",
   "metadata": {},
   "outputs": [
    {
     "data": {
      "text/plain": [
       "1635"
      ]
     },
     "execution_count": 11,
     "metadata": {},
     "output_type": "execute_result"
    }
   ],
   "source": [
    "df = read_csv('stan_results/m4a_trt_1_3_summary.tsv', sep='\\t')\n",
    "df[df.R_hat>1.02].count()['R_hat']"
   ]
  },
  {
   "cell_type": "markdown",
   "id": "fa0e24be",
   "metadata": {},
   "source": [
    "### TEST RETEST"
   ]
  },
  {
   "cell_type": "code",
   "execution_count": 4,
   "id": "40c3d71f",
   "metadata": {},
   "outputs": [],
   "source": [
    "# get ppc\n",
    "all_data_trt = []\n",
    "\n",
    "for stan_model in stan_models:\n",
    "    for i,j in [[1,2],[2,3],[3,1]]:\n",
    "        path_to_file = os.path.join('stan_results','reliability_old',\n",
    "                        f'{stan_model}_trt_{i}_{j}_summary.tsv')\n",
    "        if exists(path_to_file):\n",
    "            df = read_csv(path_to_file, sep='\\t')\n",
    "            df['model'] = stan_model\n",
    "            df['pair'] = str(i)+'_'+str(j)\n",
    "            all_data_trt.append(df)\n",
    "\n",
    "\n",
    "all_data_trt = concat(all_data_trt)\n",
    "\n"
   ]
  },
  {
   "cell_type": "code",
   "execution_count": 5,
   "id": "7516a0cd",
   "metadata": {},
   "outputs": [],
   "source": [
    "all_data_trt.reset_index(inplace=True)"
   ]
  },
  {
   "cell_type": "code",
   "execution_count": 6,
   "id": "c1f181a7",
   "metadata": {},
   "outputs": [
    {
     "data": {
      "text/plain": [
       "model  pair\n",
       "m4a    1_2     201\n",
       "       2_3     201\n",
       "       3_1     201\n",
       "m4b    1_2     161\n",
       "       2_3     161\n",
       "       3_1     161\n",
       "Name: R_hat, dtype: int64"
      ]
     },
     "execution_count": 6,
     "metadata": {},
     "output_type": "execute_result"
    }
   ],
   "source": [
    "all_data_trt[all_data_trt.R_hat>1.02].groupby(['model','pair']).count()['R_hat']"
   ]
  },
  {
   "cell_type": "code",
   "execution_count": 7,
   "id": "46ffb57a",
   "metadata": {},
   "outputs": [
    {
     "data": {
      "text/html": [
       "<div>\n",
       "<style scoped>\n",
       "    .dataframe tbody tr th:only-of-type {\n",
       "        vertical-align: middle;\n",
       "    }\n",
       "\n",
       "    .dataframe tbody tr th {\n",
       "        vertical-align: top;\n",
       "    }\n",
       "\n",
       "    .dataframe thead th {\n",
       "        text-align: right;\n",
       "    }\n",
       "</style>\n",
       "<table border=\"1\" class=\"dataframe\">\n",
       "  <thead>\n",
       "    <tr style=\"text-align: right;\">\n",
       "      <th></th>\n",
       "      <th>index</th>\n",
       "      <th>name</th>\n",
       "      <th>Mean</th>\n",
       "      <th>MCSE</th>\n",
       "      <th>StdDev</th>\n",
       "      <th>5%</th>\n",
       "      <th>50%</th>\n",
       "      <th>95%</th>\n",
       "      <th>N_Eff</th>\n",
       "      <th>N_Eff/s</th>\n",
       "      <th>R_hat</th>\n",
       "      <th>model</th>\n",
       "      <th>pair</th>\n",
       "    </tr>\n",
       "  </thead>\n",
       "  <tbody>\n",
       "    <tr>\n",
       "      <th>0</th>\n",
       "      <td>0</td>\n",
       "      <td>lp__</td>\n",
       "      <td>-27016.800000</td>\n",
       "      <td>1.266560</td>\n",
       "      <td>28.056500</td>\n",
       "      <td>-27062.300000</td>\n",
       "      <td>-27016.400000</td>\n",
       "      <td>-26970.400000</td>\n",
       "      <td>490.70000</td>\n",
       "      <td>0.015671</td>\n",
       "      <td>1.00413</td>\n",
       "      <td>m4a</td>\n",
       "      <td>1_2</td>\n",
       "    </tr>\n",
       "    <tr>\n",
       "      <th>1</th>\n",
       "      <td>1</td>\n",
       "      <td>mu_pr[1,1]</td>\n",
       "      <td>-0.513900</td>\n",
       "      <td>0.002829</td>\n",
       "      <td>0.083067</td>\n",
       "      <td>-0.651212</td>\n",
       "      <td>-0.515967</td>\n",
       "      <td>-0.370298</td>\n",
       "      <td>861.98200</td>\n",
       "      <td>0.027528</td>\n",
       "      <td>1.00066</td>\n",
       "      <td>m4a</td>\n",
       "      <td>1_2</td>\n",
       "    </tr>\n",
       "    <tr>\n",
       "      <th>2</th>\n",
       "      <td>2</td>\n",
       "      <td>mu_pr[1,2]</td>\n",
       "      <td>-0.235420</td>\n",
       "      <td>0.002717</td>\n",
       "      <td>0.079499</td>\n",
       "      <td>-0.359349</td>\n",
       "      <td>-0.237810</td>\n",
       "      <td>-0.100096</td>\n",
       "      <td>856.06500</td>\n",
       "      <td>0.027339</td>\n",
       "      <td>1.00150</td>\n",
       "      <td>m4a</td>\n",
       "      <td>1_2</td>\n",
       "    </tr>\n",
       "    <tr>\n",
       "      <th>3</th>\n",
       "      <td>3</td>\n",
       "      <td>mu_pr[2,1]</td>\n",
       "      <td>-0.513270</td>\n",
       "      <td>0.003438</td>\n",
       "      <td>0.094536</td>\n",
       "      <td>-0.669051</td>\n",
       "      <td>-0.512827</td>\n",
       "      <td>-0.354713</td>\n",
       "      <td>756.03100</td>\n",
       "      <td>0.024145</td>\n",
       "      <td>1.00047</td>\n",
       "      <td>m4a</td>\n",
       "      <td>1_2</td>\n",
       "    </tr>\n",
       "    <tr>\n",
       "      <th>4</th>\n",
       "      <td>4</td>\n",
       "      <td>mu_pr[2,2]</td>\n",
       "      <td>-0.355550</td>\n",
       "      <td>0.003067</td>\n",
       "      <td>0.094745</td>\n",
       "      <td>-0.514841</td>\n",
       "      <td>-0.355227</td>\n",
       "      <td>-0.198632</td>\n",
       "      <td>954.52700</td>\n",
       "      <td>0.030484</td>\n",
       "      <td>1.00173</td>\n",
       "      <td>m4a</td>\n",
       "      <td>1_2</td>\n",
       "    </tr>\n",
       "    <tr>\n",
       "      <th>...</th>\n",
       "      <td>...</td>\n",
       "      <td>...</td>\n",
       "      <td>...</td>\n",
       "      <td>...</td>\n",
       "      <td>...</td>\n",
       "      <td>...</td>\n",
       "      <td>...</td>\n",
       "      <td>...</td>\n",
       "      <td>...</td>\n",
       "      <td>...</td>\n",
       "      <td>...</td>\n",
       "      <td>...</td>\n",
       "      <td>...</td>\n",
       "    </tr>\n",
       "    <tr>\n",
       "      <th>10264</th>\n",
       "      <td>1512</td>\n",
       "      <td>sigma_d[4]</td>\n",
       "      <td>0.007033</td>\n",
       "      <td>0.000252</td>\n",
       "      <td>0.003613</td>\n",
       "      <td>0.001554</td>\n",
       "      <td>0.006901</td>\n",
       "      <td>0.012989</td>\n",
       "      <td>206.09100</td>\n",
       "      <td>0.004178</td>\n",
       "      <td>1.01064</td>\n",
       "      <td>m4b</td>\n",
       "      <td>3_1</td>\n",
       "    </tr>\n",
       "    <tr>\n",
       "      <th>10265</th>\n",
       "      <td>1513</td>\n",
       "      <td>rho[1]</td>\n",
       "      <td>0.008511</td>\n",
       "      <td>0.320754</td>\n",
       "      <td>0.773182</td>\n",
       "      <td>-0.959825</td>\n",
       "      <td>0.122114</td>\n",
       "      <td>0.954260</td>\n",
       "      <td>5.81056</td>\n",
       "      <td>0.000118</td>\n",
       "      <td>1.32813</td>\n",
       "      <td>m4b</td>\n",
       "      <td>3_1</td>\n",
       "    </tr>\n",
       "    <tr>\n",
       "      <th>10266</th>\n",
       "      <td>1514</td>\n",
       "      <td>rho[2]</td>\n",
       "      <td>-0.005534</td>\n",
       "      <td>0.322274</td>\n",
       "      <td>0.764145</td>\n",
       "      <td>-0.963737</td>\n",
       "      <td>0.019430</td>\n",
       "      <td>0.951370</td>\n",
       "      <td>5.62215</td>\n",
       "      <td>0.000114</td>\n",
       "      <td>1.32217</td>\n",
       "      <td>m4b</td>\n",
       "      <td>3_1</td>\n",
       "    </tr>\n",
       "    <tr>\n",
       "      <th>10267</th>\n",
       "      <td>1515</td>\n",
       "      <td>rho[3]</td>\n",
       "      <td>0.017478</td>\n",
       "      <td>0.283533</td>\n",
       "      <td>0.747318</td>\n",
       "      <td>-0.965457</td>\n",
       "      <td>0.140205</td>\n",
       "      <td>0.965978</td>\n",
       "      <td>6.94709</td>\n",
       "      <td>0.000141</td>\n",
       "      <td>1.29684</td>\n",
       "      <td>m4b</td>\n",
       "      <td>3_1</td>\n",
       "    </tr>\n",
       "    <tr>\n",
       "      <th>10268</th>\n",
       "      <td>1516</td>\n",
       "      <td>rho[4]</td>\n",
       "      <td>-0.040689</td>\n",
       "      <td>0.036587</td>\n",
       "      <td>0.494769</td>\n",
       "      <td>-0.801783</td>\n",
       "      <td>-0.058151</td>\n",
       "      <td>0.760362</td>\n",
       "      <td>182.87900</td>\n",
       "      <td>0.003708</td>\n",
       "      <td>1.01138</td>\n",
       "      <td>m4b</td>\n",
       "      <td>3_1</td>\n",
       "    </tr>\n",
       "  </tbody>\n",
       "</table>\n",
       "<p>10269 rows × 13 columns</p>\n",
       "</div>"
      ],
      "text/plain": [
       "       index        name          Mean      MCSE     StdDev            5%  \\\n",
       "0          0        lp__ -27016.800000  1.266560  28.056500 -27062.300000   \n",
       "1          1  mu_pr[1,1]     -0.513900  0.002829   0.083067     -0.651212   \n",
       "2          2  mu_pr[1,2]     -0.235420  0.002717   0.079499     -0.359349   \n",
       "3          3  mu_pr[2,1]     -0.513270  0.003438   0.094536     -0.669051   \n",
       "4          4  mu_pr[2,2]     -0.355550  0.003067   0.094745     -0.514841   \n",
       "...      ...         ...           ...       ...        ...           ...   \n",
       "10264   1512  sigma_d[4]      0.007033  0.000252   0.003613      0.001554   \n",
       "10265   1513      rho[1]      0.008511  0.320754   0.773182     -0.959825   \n",
       "10266   1514      rho[2]     -0.005534  0.322274   0.764145     -0.963737   \n",
       "10267   1515      rho[3]      0.017478  0.283533   0.747318     -0.965457   \n",
       "10268   1516      rho[4]     -0.040689  0.036587   0.494769     -0.801783   \n",
       "\n",
       "                50%           95%      N_Eff   N_Eff/s    R_hat model pair  \n",
       "0     -27016.400000 -26970.400000  490.70000  0.015671  1.00413   m4a  1_2  \n",
       "1         -0.515967     -0.370298  861.98200  0.027528  1.00066   m4a  1_2  \n",
       "2         -0.237810     -0.100096  856.06500  0.027339  1.00150   m4a  1_2  \n",
       "3         -0.512827     -0.354713  756.03100  0.024145  1.00047   m4a  1_2  \n",
       "4         -0.355227     -0.198632  954.52700  0.030484  1.00173   m4a  1_2  \n",
       "...             ...           ...        ...       ...      ...   ...  ...  \n",
       "10264      0.006901      0.012989  206.09100  0.004178  1.01064   m4b  3_1  \n",
       "10265      0.122114      0.954260    5.81056  0.000118  1.32813   m4b  3_1  \n",
       "10266      0.019430      0.951370    5.62215  0.000114  1.32217   m4b  3_1  \n",
       "10267      0.140205      0.965978    6.94709  0.000141  1.29684   m4b  3_1  \n",
       "10268     -0.058151      0.760362  182.87900  0.003708  1.01138   m4b  3_1  \n",
       "\n",
       "[10269 rows x 13 columns]"
      ]
     },
     "execution_count": 7,
     "metadata": {},
     "output_type": "execute_result"
    }
   ],
   "source": [
    "all_data_trt"
   ]
  },
  {
   "cell_type": "code",
   "execution_count": null,
   "id": "79ab598e",
   "metadata": {},
   "outputs": [],
   "source": []
  },
  {
   "cell_type": "code",
   "execution_count": 6,
   "id": "2e647c11",
   "metadata": {},
   "outputs": [],
   "source": [
    "\n",
    "\n",
    "# all_data['param_name'] = all_data.name.str.split('[', expand=True)[0]\n",
    "# all_data['subj_n'] = all_data.name.str.split('[', expand=True)[1]\n",
    "# all_data['subj_n'] = all_data['subj_n'].str[:-1]\n",
    "\n",
    "# all_data['ses']=np.where(all_data.subj_n.str.split(',', expand=True)[1].isna(),\n",
    "#         np.nan,\n",
    "#         all_data.subj_n.str.split(',', expand=True)[0])\n",
    "\n",
    "# all_data['subj'] = np.where(all_data.subj_n.str.split(',', expand=True)[1].isna(),\n",
    "#         all_data.subj_n.str.split(',', expand=True)[0],\n",
    "#         all_data.subj_n.str.split(',', expand=True)[1])\n",
    "\n",
    "# all_data['subj_ses'] = all_data['subj'] +\"_\"+all_data['ses'].astype('str')\n"
   ]
  },
  {
   "cell_type": "code",
   "execution_count": 7,
   "id": "f0bd15fb",
   "metadata": {},
   "outputs": [],
   "source": [
    "# all_data_parmas = all_data[all_data.param_name.isin(['beta_GO','beta_P', \n",
    "#                                    'eta_gain','eta_loss'])]\n"
   ]
  },
  {
   "cell_type": "code",
   "execution_count": 8,
   "id": "9235e9f1",
   "metadata": {},
   "outputs": [],
   "source": [
    "# all_data_parmas.reset_index(inplace=True)"
   ]
  },
  {
   "cell_type": "code",
   "execution_count": 9,
   "id": "b722a9d6",
   "metadata": {},
   "outputs": [],
   "source": [
    "# all_data_parmas"
   ]
  },
  {
   "cell_type": "code",
   "execution_count": 10,
   "id": "ba019a27",
   "metadata": {},
   "outputs": [],
   "source": [
    "# all_data_parmas.pivot(index='subj_ses', \n",
    "#                       columns=['param_name', 'Mean'],\n",
    "#                       values=\"Mean\").reset_index()\n"
   ]
  },
  {
   "cell_type": "markdown",
   "id": "81bea9ac",
   "metadata": {},
   "source": [
    "### INTERNAL CONSISTENCY"
   ]
  },
  {
   "cell_type": "code",
   "execution_count": 11,
   "id": "df1dc05a",
   "metadata": {},
   "outputs": [],
   "source": [
    "# get ppc\n",
    "all_data_ic = []\n",
    "\n",
    "for stan_model in stan_models:\n",
    "    for i,j in [[1,2],[2,3],[3,1]]:\n",
    "        path_to_file = os.path.join('stan_results',\n",
    "                        f'{stan_model}_ic_{i}_{j}_summary.tsv')\n",
    "        if exists(path_to_file):\n",
    "            df = read_csv(path_to_file, sep='\\t')\n",
    "            df['model'] = stan_model\n",
    "            df['pair'] = str(i)+'_'+str(j)\n",
    "            all_data_sh.append(df)\n",
    "\n",
    "\n",
    "all_data_sh = concat(all_data_sh)\n",
    "\n"
   ]
  },
  {
   "cell_type": "code",
   "execution_count": 13,
   "id": "7bce8642",
   "metadata": {},
   "outputs": [],
   "source": [
    "all_data_sh.reset_index(inplace=True)"
   ]
  },
  {
   "cell_type": "code",
   "execution_count": 14,
   "id": "96c26d4f",
   "metadata": {},
   "outputs": [
    {
     "data": {
      "text/plain": [
       "model  pair\n",
       "m4a    1_2     78\n",
       "       2_3     78\n",
       "       3_1     78\n",
       "m4b    1_2     71\n",
       "       2_3     71\n",
       "       3_1     71\n",
       "Name: R_hat, dtype: int64"
      ]
     },
     "execution_count": 14,
     "metadata": {},
     "output_type": "execute_result"
    }
   ],
   "source": [
    "# check convergence \n",
    "all_data_sh[all_data_sh.R_hat>1.02].groupby(['model','pair']).count()['R_hat']"
   ]
  },
  {
   "cell_type": "code",
   "execution_count": null,
   "id": "90416c83",
   "metadata": {},
   "outputs": [],
   "source": []
  }
 ],
 "metadata": {
  "kernelspec": {
   "display_name": "Python 3",
   "language": "python",
   "name": "python3"
  },
  "language_info": {
   "codemirror_mode": {
    "name": "ipython",
    "version": 3
   },
   "file_extension": ".py",
   "mimetype": "text/x-python",
   "name": "python",
   "nbconvert_exporter": "python",
   "pygments_lexer": "ipython3",
   "version": "3.9.7"
  }
 },
 "nbformat": 4,
 "nbformat_minor": 5
}
